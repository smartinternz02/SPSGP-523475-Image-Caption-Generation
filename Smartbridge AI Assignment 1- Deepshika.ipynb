{
  "metadata": {
    "language_info": {
      "codemirror_mode": {
        "name": "python",
        "version": 3
      },
      "file_extension": ".py",
      "mimetype": "text/x-python",
      "name": "python",
      "nbconvert_exporter": "python",
      "pygments_lexer": "ipython3",
      "version": "3.8"
    },
    "kernelspec": {
      "name": "python",
      "display_name": "Python (Pyodide)",
      "language": "python"
    }
  },
  "nbformat_minor": 4,
  "nbformat": 4,
  "cells": [
    {
      "cell_type": "code",
      "source": "import pandas as pd\nimport numpy as np",
      "metadata": {
        "trusted": true
      },
      "execution_count": 2,
      "outputs": []
    },
    {
      "cell_type": "code",
      "source": "# Set the random seed for reproducibility\nnp.random.seed(42)",
      "metadata": {
        "trusted": true
      },
      "execution_count": 3,
      "outputs": []
    },
    {
      "cell_type": "code",
      "source": "# Create random values\ndata = np.random.rand(4, 4)",
      "metadata": {
        "trusted": true
      },
      "execution_count": 4,
      "outputs": []
    },
    {
      "cell_type": "code",
      "source": "# Create DataFrame\ndf = pd.DataFrame(data, columns=['Feature 1', 'Feature 2', 'Feature 3', 'Feature 4'])",
      "metadata": {
        "trusted": true
      },
      "execution_count": 5,
      "outputs": []
    },
    {
      "cell_type": "code",
      "source": "# Display the DataFrame\nprint(df)",
      "metadata": {
        "trusted": true
      },
      "execution_count": 6,
      "outputs": [
        {
          "name": "stdout",
          "text": "   Feature 1  Feature 2  Feature 3  Feature 4\n0   0.374540   0.950714   0.731994   0.598658\n1   0.156019   0.155995   0.058084   0.866176\n2   0.601115   0.708073   0.020584   0.969910\n3   0.832443   0.212339   0.181825   0.183405\n",
          "output_type": "stream"
        }
      ]
    },
    {
      "cell_type": "code",
      "source": "# Create DataFrame\ndf = pd.DataFrame(data, columns=['Random value 1', 'Random value 2', 'Random value 3', 'Random value 4'])",
      "metadata": {
        "trusted": true
      },
      "execution_count": 7,
      "outputs": []
    },
    {
      "cell_type": "code",
      "source": "# Display the DataFrame\nprint(df)",
      "metadata": {
        "trusted": true
      },
      "execution_count": 13,
      "outputs": [
        {
          "name": "stdout",
          "text": "   Random value 1  Random value 2  Random value 3  Random value 4\n0        0.374540        0.950714        0.731994        0.598658\n1        0.156019        0.155995        0.058084        0.866176\n2        0.601115        0.708073        0.020584        0.969910\n3        0.832443        0.212339        0.181825        0.183405\n",
          "output_type": "stream"
        }
      ]
    },
    {
      "cell_type": "code",
      "source": "# Calculate descriptive statistics\nstatistics = df.describe()",
      "metadata": {
        "trusted": true
      },
      "execution_count": 9,
      "outputs": []
    },
    {
      "cell_type": "code",
      "source": "# Display the descriptive statistics\nprint(statistics)",
      "metadata": {
        "trusted": true
      },
      "execution_count": 10,
      "outputs": [
        {
          "name": "stdout",
          "text": "       Random value 1  Random value 2  Random value 3  Random value 4\ncount        4.000000        4.000000        4.000000        4.000000\nmean         0.491029        0.506780        0.248122        0.654537\nstd          0.291252        0.386153        0.329856        0.350875\nmin          0.156019        0.155995        0.020584        0.183405\n25%          0.319910        0.198253        0.048709        0.494845\n50%          0.487828        0.460206        0.119954        0.732417\n75%          0.658947        0.768733        0.319367        0.892110\nmax          0.832443        0.950714        0.731994        0.969910\n",
          "output_type": "stream"
        }
      ]
    },
    {
      "cell_type": "code",
      "source": "# Check for null values\nnull_values = df.isnull().sum()",
      "metadata": {
        "trusted": true
      },
      "execution_count": 11,
      "outputs": []
    },
    {
      "cell_type": "code",
      "source": "# Find the data type of the columns\ndata_types = df.dtypes",
      "metadata": {
        "trusted": true
      },
      "execution_count": 12,
      "outputs": []
    },
    {
      "cell_type": "code",
      "source": "# Display the results\nprint(\"Null Values:\\n\", null_values)\nprint(\"\\nData Types:\\n\", data_types)",
      "metadata": {
        "trusted": true
      },
      "execution_count": 14,
      "outputs": [
        {
          "name": "stdout",
          "text": "Null Values:\n Random value 1    0\nRandom value 2    0\nRandom value 3    0\nRandom value 4    0\ndtype: int64\n\nData Types:\n Random value 1    float64\nRandom value 2    float64\nRandom value 3    float64\nRandom value 4    float64\ndtype: object\n",
          "output_type": "stream"
        }
      ]
    },
    {
      "cell_type": "code",
      "source": "# Display columns using loc method\ncolumns_loc = df.loc[:, ['Random value 2', 'Random value 3']]\nprint(\"Columns using loc method:\\n\", columns_loc)",
      "metadata": {
        "trusted": true
      },
      "execution_count": 15,
      "outputs": [
        {
          "name": "stdout",
          "text": "Columns using loc method:\n    Random value 2  Random value 3\n0        0.950714        0.731994\n1        0.155995        0.058084\n2        0.708073        0.020584\n3        0.212339        0.181825\n",
          "output_type": "stream"
        }
      ]
    },
    {
      "cell_type": "code",
      "source": "# Display columns using iloc method\ncolumns_iloc = df.iloc[:, [1, 2]]\nprint(\"\\nColumns using iloc method:\\n\", columns_iloc)",
      "metadata": {
        "trusted": true
      },
      "execution_count": 16,
      "outputs": [
        {
          "name": "stdout",
          "text": "\nColumns using iloc method:\n    Random value 2  Random value 3\n0        0.950714        0.731994\n1        0.155995        0.058084\n2        0.708073        0.020584\n3        0.212339        0.181825\n",
          "output_type": "stream"
        }
      ]
    },
    {
      "cell_type": "code",
      "source": "",
      "metadata": {},
      "execution_count": null,
      "outputs": []
    },
    {
      "cell_type": "code",
      "source": "",
      "metadata": {},
      "execution_count": null,
      "outputs": []
    }
  ]
}